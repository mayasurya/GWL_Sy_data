{
 "cells": [
  {
   "cell_type": "markdown",
   "id": "f83bfe01",
   "metadata": {},
   "source": [
    "# A. To obtain quality-controlled groundwater level data from example unfiltered csv file (example_unfiltered_CGWB_data.csv) "
   ]
  },
  {
   "cell_type": "code",
   "execution_count": 67,
   "id": "bca4289e",
   "metadata": {},
   "outputs": [],
   "source": [
    "import pandas as pd\n",
    "import geopandas as gpd\n",
    "\n",
    "# Load the unfiltered CSV data of wells\n",
    "unfiltered_well = pd.read_csv('/give_path_to/example_data/1_example_unfiltered_CGWB_data.csv')\n",
    "\n",
    "# Function to check if there are at least 3 non-NaN values for a given year\n",
    "def has_at_least_3_non_nan(row, year):\n",
    "    columns_for_year = [f'Jan {year}', f'May {year}', f'Aug {year}', f'Nov {year}']\n",
    "    non_nan_count = sum(pd.notna(row[col]) for col in columns_for_year)\n",
    "    return non_nan_count >= 3\n",
    "\n",
    "# List of years to check (2004 to 2015)\n",
    "years = range(2004, 2016)\n",
    "\n",
    "# Filter rows that meet the condition for each year (at least 3 non-NaN values)\n",
    "for year in years:\n",
    "    unfiltered_well = unfiltered_well[unfiltered_well.apply(lambda row: has_at_least_3_non_nan(row, year), axis=1)]\n",
    "\n",
    "# Define the time columns to keep for each year (January, May, August, November)\n",
    "time_columns = [f'{month} {year}' for year in years for month in ['Jan', 'May', 'Aug', 'Nov']]\n",
    "\n",
    "# Filter rows based on certain conditions (no negative values, no repeating values more than twice)\n",
    "def filter_rows(df):\n",
    "    # Initialize a mask with all True values\n",
    "    mask = pd.Series([True] * len(df), index=df.index)\n",
    "    \n",
    "    # Iterate through each row in the DataFrame\n",
    "    for index, row in df.iterrows():\n",
    "        # Extract values from columns starting from the 6th one onward (time data)\n",
    "        values = row[6:]\n",
    "        \n",
    "        # Check if any value is negative\n",
    "        if any(val < 0 for val in values):\n",
    "            mask.loc[index] = False\n",
    "            continue\n",
    "        \n",
    "        # Count occurrences of each value\n",
    "        value_counts = values.value_counts()\n",
    "        \n",
    "        # Check if any value repeats more than twice\n",
    "        if any(count > 2 for count in value_counts):\n",
    "            mask.loc[index] = False\n",
    "    \n",
    "    # Apply the mask to filter rows\n",
    "    filtered_df = df.loc[mask].reset_index(drop=True)\n",
    "    return filtered_df\n",
    "\n",
    "# Apply the filtering function\n",
    "filtered_df = filter_rows(unfiltered_well)"
   ]
  },
  {
   "cell_type": "code",
   "execution_count": null,
   "id": "c13eb948",
   "metadata": {},
   "outputs": [],
   "source": []
  }
 ],
 "metadata": {
  "kernelspec": {
   "display_name": "Python 3 (ipykernel)",
   "language": "python",
   "name": "python3"
  },
  "language_info": {
   "codemirror_mode": {
    "name": "ipython",
    "version": 3
   },
   "file_extension": ".py",
   "mimetype": "text/x-python",
   "name": "python",
   "nbconvert_exporter": "python",
   "pygments_lexer": "ipython3",
   "version": "3.10.5"
  }
 },
 "nbformat": 4,
 "nbformat_minor": 5
}
